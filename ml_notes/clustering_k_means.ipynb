{
 "cells": [
  {
   "cell_type": "code",
   "execution_count": 2,
   "metadata": {},
   "outputs": [
    {
     "name": "stdout",
     "output_type": "stream",
     "text": [
      "3949\n"
     ]
    }
   ],
   "source": [
    "from sklearn.datasets import load_files\n",
    "\n",
    "docs = load_files('datasets/clustering/data/')\n",
    "print (len(docs.data))"
   ]
  },
  {
   "cell_type": "code",
   "execution_count": 10,
   "metadata": {},
   "outputs": [
    {
     "name": "stdout",
     "output_type": "stream",
     "text": [
      "(3949, 20000)\n",
      "datasets/clustering/data/sci.electronics/11902-54322 56\n"
     ]
    }
   ],
   "source": [
    "from sklearn.feature_extraction.text import TfidfVectorizer\n",
    "\n",
    "max_features = 20000\n",
    "vectorizer = TfidfVectorizer(max_df = 0.4,min_df = 2,max_features = max_features,encoding ='latin-1')\n",
    "X = vectorizer.fit_transform((d for d in docs.data))\n",
    "print(X.shape)\n",
    "print(docs.filenames[0],X[0].getnnz())"
   ]
  },
  {
   "cell_type": "code",
   "execution_count": 13,
   "metadata": {},
   "outputs": [
    {
     "name": "stdout",
     "output_type": "stream",
     "text": [
      "Initialization complete\n",
      "Iteration  0, inertia 7548.853\n",
      "Iteration  1, inertia 3844.112\n",
      "Iteration  2, inertia 3829.954\n",
      "Iteration  3, inertia 3825.713\n",
      "Iteration  4, inertia 3824.118\n",
      "Iteration  5, inertia 3823.214\n",
      "Iteration  6, inertia 3822.654\n",
      "Iteration  7, inertia 3822.309\n",
      "Iteration  8, inertia 3822.000\n",
      "Iteration  9, inertia 3821.603\n",
      "Iteration 10, inertia 3821.177\n",
      "Iteration 11, inertia 3820.754\n",
      "Iteration 12, inertia 3820.412\n",
      "Iteration 13, inertia 3820.132\n",
      "Iteration 14, inertia 3819.827\n",
      "Iteration 15, inertia 3819.513\n",
      "Iteration 16, inertia 3819.285\n",
      "Iteration 17, inertia 3819.156\n",
      "Iteration 18, inertia 3819.082\n",
      "Iteration 19, inertia 3819.017\n",
      "Iteration 20, inertia 3818.966\n",
      "Iteration 21, inertia 3818.907\n",
      "Iteration 22, inertia 3818.841\n",
      "Iteration 23, inertia 3818.786\n",
      "Iteration 24, inertia 3818.740\n",
      "Iteration 25, inertia 3818.708\n",
      "Iteration 26, inertia 3818.682\n",
      "Iteration 27, inertia 3818.651\n",
      "Iteration 28, inertia 3818.613\n",
      "Iteration 29, inertia 3818.547\n",
      "Iteration 30, inertia 3818.481\n",
      "Iteration 31, inertia 3818.431\n",
      "Iteration 32, inertia 3818.389\n",
      "Iteration 33, inertia 3818.356\n",
      "Iteration 34, inertia 3818.328\n",
      "Iteration 35, inertia 3818.311\n",
      "Iteration 36, inertia 3818.294\n",
      "Iteration 37, inertia 3818.273\n",
      "Iteration 38, inertia 3818.249\n",
      "Iteration 39, inertia 3818.220\n",
      "Iteration 40, inertia 3818.201\n",
      "Iteration 41, inertia 3818.166\n",
      "Iteration 42, inertia 3818.101\n",
      "Iteration 43, inertia 3818.066\n",
      "Iteration 44, inertia 3818.043\n",
      "Iteration 45, inertia 3818.024\n",
      "Iteration 46, inertia 3818.015\n",
      "Iteration 47, inertia 3818.005\n",
      "Iteration 48, inertia 3817.998\n",
      "Iteration 49, inertia 3817.990\n",
      "Iteration 50, inertia 3817.986\n",
      "Iteration 51, inertia 3817.980\n",
      "Iteration 52, inertia 3817.971\n",
      "Iteration 53, inertia 3817.969\n",
      "Iteration 54, inertia 3817.968\n",
      "Converged at iteration 54: center shift 0.000000e+00 within tolerance 4.896692e-07\n",
      "Initialization complete\n",
      "Iteration  0, inertia 7549.853\n",
      "Iteration  1, inertia 3849.099\n",
      "Iteration  2, inertia 3838.040\n",
      "Iteration  3, inertia 3832.976\n",
      "Iteration  4, inertia 3829.297\n",
      "Iteration  5, inertia 3827.882\n",
      "Iteration  6, inertia 3827.087\n",
      "Iteration  7, inertia 3826.407\n",
      "Iteration  8, inertia 3825.914\n",
      "Iteration  9, inertia 3825.290\n",
      "Iteration 10, inertia 3824.542\n",
      "Iteration 11, inertia 3823.616\n",
      "Iteration 12, inertia 3822.317\n",
      "Iteration 13, inertia 3821.078\n",
      "Iteration 14, inertia 3820.150\n",
      "Iteration 15, inertia 3819.480\n",
      "Iteration 16, inertia 3819.069\n",
      "Iteration 17, inertia 3818.759\n",
      "Iteration 18, inertia 3818.505\n",
      "Iteration 19, inertia 3818.346\n",
      "Iteration 20, inertia 3818.239\n",
      "Iteration 21, inertia 3818.187\n",
      "Iteration 22, inertia 3818.141\n",
      "Iteration 23, inertia 3818.089\n",
      "Iteration 24, inertia 3818.067\n",
      "Iteration 25, inertia 3818.052\n",
      "Iteration 26, inertia 3818.035\n",
      "Iteration 27, inertia 3818.018\n",
      "Iteration 28, inertia 3818.002\n",
      "Iteration 29, inertia 3817.992\n",
      "Iteration 30, inertia 3817.987\n",
      "Iteration 31, inertia 3817.985\n",
      "Converged at iteration 31: center shift 0.000000e+00 within tolerance 4.896692e-07\n",
      "Initialization complete\n",
      "Iteration  0, inertia 7419.302\n",
      "Iteration  1, inertia 3841.119\n",
      "Iteration  2, inertia 3830.012\n",
      "Iteration  3, inertia 3826.084\n",
      "Iteration  4, inertia 3823.475\n",
      "Iteration  5, inertia 3821.401\n",
      "Iteration  6, inertia 3820.115\n",
      "Iteration  7, inertia 3819.479\n",
      "Iteration  8, inertia 3819.286\n",
      "Iteration  9, inertia 3819.225\n",
      "Iteration 10, inertia 3819.193\n",
      "Iteration 11, inertia 3819.180\n",
      "Iteration 12, inertia 3819.163\n",
      "Iteration 13, inertia 3819.142\n",
      "Iteration 14, inertia 3819.128\n",
      "Iteration 15, inertia 3819.120\n",
      "Iteration 16, inertia 3819.118\n",
      "Converged at iteration 16: center shift 0.000000e+00 within tolerance 4.896692e-07\n",
      "kmean: k=4, cost=3817\n"
     ]
    }
   ],
   "source": [
    "from sklearn.cluster import KMeans\n",
    "\n",
    "n_clusters = 4\n",
    "kmean = KMeans(n_clusters = n_clusters,\n",
    "              max_iter = 100,\n",
    "              tol = 0.01,\n",
    "              verbose = 1,\n",
    "              n_init = 3\n",
    "              )\n",
    "kmean.fit(X)\n",
    "print(\"kmean: k={}, cost={}\".format(n_clusters, int(kmean.inertia_)))\n"
   ]
  },
  {
   "cell_type": "code",
   "execution_count": null,
   "metadata": {},
   "outputs": [],
   "source": []
  }
 ],
 "metadata": {
  "kernelspec": {
   "display_name": "Python 3",
   "language": "python",
   "name": "python3"
  },
  "language_info": {
   "codemirror_mode": {
    "name": "ipython",
    "version": 3
   },
   "file_extension": ".py",
   "mimetype": "text/x-python",
   "name": "python",
   "nbconvert_exporter": "python",
   "pygments_lexer": "ipython3",
   "version": "3.5.2"
  }
 },
 "nbformat": 4,
 "nbformat_minor": 2
}
