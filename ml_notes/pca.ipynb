{
 "cells": [
  {
   "cell_type": "code",
   "execution_count": 2,
   "metadata": {},
   "outputs": [
    {
     "name": "stderr",
     "output_type": "stream",
     "text": [
      "/usr/local/lib/python3.5/dist-packages/sklearn/utils/validation.py:590: DataConversionWarning: Data with input dtype int64 was converted to float64 by MinMaxScaler.\n",
      "  warnings.warn(msg, DataConversionWarning)\n"
     ]
    },
    {
     "data": {
      "text/plain": [
       "array([[ 0.63295065],\n",
       "       [ 0.58012815],\n",
       "       [-0.33218873],\n",
       "       [-0.58860876],\n",
       "       [-0.29228131]])"
      ]
     },
     "execution_count": 2,
     "metadata": {},
     "output_type": "execute_result"
    }
   ],
   "source": [
    "from sklearn.decomposition import PCA\n",
    "from sklearn.pipeline import Pipeline\n",
    "from sklearn.preprocessing import MinMaxScaler\n",
    "import numpy as np \n",
    "def std_PCA(**arvg):\n",
    "    scaler = MinMaxScaler()\n",
    "    pca = PCA(**arvg)\n",
    "    pipeline = Pipeline([('scaler',scaler),\n",
    "                        ('pca',pca)])\n",
    "    return pipeline\n",
    "\n",
    "A= np.array([[3,1000],\n",
    "            [2,2000],\n",
    "            [5,4000],\n",
    "            [6,4444],\n",
    "            [4,4567]])\n",
    "pca = std_PCA(n_components = 1)\n",
    "R2 = pca.fit_transform(A)\n",
    "R2"
   ]
  },
  {
   "cell_type": "code",
   "execution_count": 3,
   "metadata": {},
   "outputs": [
    {
     "data": {
      "text/plain": [
       "array([[  2.36613285e+00,   1.47752172e+03],\n",
       "       [  2.50248621e+00,   1.62145367e+03],\n",
       "       [  4.85749538e+00,   4.10735539e+03],\n",
       "       [  5.51940521e+00,   4.80605449e+03],\n",
       "       [  4.75448035e+00,   3.99861473e+03]])"
      ]
     },
     "execution_count": 3,
     "metadata": {},
     "output_type": "execute_result"
    }
   ],
   "source": [
    "pca.inverse_transform(R2)"
   ]
  },
  {
   "cell_type": "code",
   "execution_count": null,
   "metadata": {},
   "outputs": [],
   "source": []
  }
 ],
 "metadata": {
  "kernelspec": {
   "display_name": "Python 3",
   "language": "python",
   "name": "python3"
  },
  "language_info": {
   "codemirror_mode": {
    "name": "ipython",
    "version": 3
   },
   "file_extension": ".py",
   "mimetype": "text/x-python",
   "name": "python",
   "nbconvert_exporter": "python",
   "pygments_lexer": "ipython3",
   "version": "3.5.2"
  }
 },
 "nbformat": 4,
 "nbformat_minor": 2
}
